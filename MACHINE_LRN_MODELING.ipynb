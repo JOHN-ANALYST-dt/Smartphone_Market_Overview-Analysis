{
 "cells": [
  {
   "cell_type": "markdown",
   "id": "91181e95-a4d9-42a6-a1e9-c6590c7c6b47",
   "metadata": {},
   "source": [
    "<h1><b>MODELS CREATION AND PRICE PREDICTIONS WITH MACHINE LEARNING</b> </h1>"
   ]
  }
 ],
 "metadata": {
  "kernelspec": {
   "display_name": "Python 3 (ipykernel)",
   "language": "python",
   "name": "python3"
  },
  "language_info": {
   "codemirror_mode": {
    "name": "ipython",
    "version": 3
   },
   "file_extension": ".py",
   "mimetype": "text/x-python",
   "name": "python",
   "nbconvert_exporter": "python",
   "pygments_lexer": "ipython3",
   "version": "3.11.7"
  }
 },
 "nbformat": 4,
 "nbformat_minor": 5
}
